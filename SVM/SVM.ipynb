{
 "cells": [
  {
   "cell_type": "markdown",
   "id": "44b63ada-dff2-4d62-9fd4-46c71c82cc60",
   "metadata": {},
   "source": [
    "Support Vector Machines - Classification (SVC)"
   ]
  },
  {
   "cell_type": "markdown",
   "id": "c2cfddad-2b5b-4c94-95e3-0670b72268d1",
   "metadata": {},
   "source": [
    "# Test 1 : Images size = 32 x 32 & model : kernel=linear & C=5"
   ]
  },
  {
   "cell_type": "markdown",
   "id": "529ec3a8-303c-4121-ac32-c39dc381b064",
   "metadata": {},
   "source": [
    "## Imports"
   ]
  },
  {
   "cell_type": "code",
   "execution_count": 1,
   "id": "b57e7e9a-9d2a-47d3-b1df-800470cd2948",
   "metadata": {},
   "outputs": [],
   "source": [
    "import numpy as np\n",
    "import cv2\n",
    "import matplotlib.pyplot as plt\n",
    "import pandas as pd\n",
    "import pywt\n"
   ]
  },
  {
   "cell_type": "markdown",
   "id": "d166e03d-74e2-48fd-8584-a0a35bf451dd",
   "metadata": {},
   "source": [
    "## Parameters"
   ]
  },
  {
   "cell_type": "markdown",
   "id": "67a43376-a6b3-4929-9dd7-125625ec42fe",
   "metadata": {},
   "source": [
    "### Path to the images"
   ]
  },
  {
   "cell_type": "code",
   "execution_count": 2,
   "id": "add28856-f94a-4dd3-8383-d7147e4ab2dd",
   "metadata": {},
   "outputs": [],
   "source": [
    "train_path = \"../../../datasets/original/train/\"\n",
    "valid_path = \"../../../datasets/original/val/\"\n",
    "test_path = \"../../../datasets/original/test/\""
   ]
  },
  {
   "cell_type": "markdown",
   "id": "bec193fc-5ce8-44ef-9dcc-8de4eee8e686",
   "metadata": {},
   "source": [
    "### Images size"
   ]
  },
  {
   "cell_type": "code",
   "execution_count": 3,
   "id": "4c3f94ab-b550-4828-8507-3b3626893eaa",
   "metadata": {},
   "outputs": [],
   "source": [
    "img_height = 32\n",
    "img_width = 32"
   ]
  },
  {
   "cell_type": "markdown",
   "id": "4651e536-d98d-49db-a70a-ebb1f8cef28e",
   "metadata": {},
   "source": [
    "### Model Parameters"
   ]
  },
  {
   "cell_type": "code",
   "execution_count": 4,
   "id": "34d5c693-038c-4832-85aa-11613a549f8d",
   "metadata": {},
   "outputs": [],
   "source": [
    "C=[5]\n",
    "kernel=['linear']\n",
    "coef0=[0]"
   ]
  },
  {
   "cell_type": "markdown",
   "id": "7c4a63c4-6441-46d0-9d3c-082ac67f9dd8",
   "metadata": {},
   "source": [
    "## Preprocessing : Haar Wavelet"
   ]
  },
  {
   "cell_type": "markdown",
   "id": "a5e4fad2-e524-41e3-b974-6480be4ddfc2",
   "metadata": {},
   "source": [
    "The wavelet transform is a mathematical technique which can decompose a signal into multiple lower resolution levels by controlling the scaling and shifting factors of a single wavelet function"
   ]
  },
  {
   "cell_type": "markdown",
   "id": "dd64cb58-31aa-4e1f-b7a8-1d1d631595e6",
   "metadata": {},
   "source": [
    "### Methods"
   ]
  },
  {
   "cell_type": "code",
   "execution_count": 5,
   "id": "ffb5a0ed-ce7c-4fbd-b4a7-ad707fde8d13",
   "metadata": {},
   "outputs": [],
   "source": [
    "def w2d(img, mode='haar', level=1, plotIt=False):\n",
    "    imArray = img\n",
    "    #Datatype conversions\n",
    "    #convert to grayscale\n",
    "    img_rgb_2_gray = cv2.cvtColor( imArray,cv2.COLOR_RGB2GRAY )\n",
    "    #convert to float\n",
    "    imArray =  np.float32(img_rgb_2_gray)\n",
    "    imArray /= 255\n",
    "    # compute coefficients\n",
    "    coeffs=pywt.wavedec2(imArray, mode, level=level)\n",
    "\n",
    "    #Process Coefficients\n",
    "    coeffs_H=list(coeffs)\n",
    "    coeffs_H[0] *= 0\n",
    "\n",
    "    # reconstruction\n",
    "    imArray_H=pywt.waverec2(coeffs_H, mode)\n",
    "    imArray_H *= 255\n",
    "    imArray_H =  np.uint8(imArray_H)\n",
    "\n",
    "    if plotIt:\n",
    "        plt.figure(figsize=(12, 12))\n",
    "        plt.subplot(1, 3, 1)\n",
    "        image_init = img\n",
    "        plt.title(\"image_init\")\n",
    "        plt.axis('off')\n",
    "        plt.imshow(np.squeeze(image_init),cmap='gray',interpolation='nearest')\n",
    "        plt.subplot(1, 3, 2)\n",
    "        image_rgb_to_gray = img_rgb_2_gray\n",
    "        plt.title(\"image_rgb_to_gray\")\n",
    "        plt.axis('off')\n",
    "        plt.imshow(np.squeeze(image_rgb_to_gray),cmap='gray',interpolation='nearest')\n",
    "        plt.subplot(1, 3, 3)\n",
    "        reconstruction = imArray_H\n",
    "    \n",
    "        plt.title(\"reconstruction\")\n",
    "        plt.axis('off')\n",
    "        plt.imshow(np.squeeze(reconstruction),cmap='gray',interpolation='nearest')\n",
    "\n",
    "        plt.tight_layout()\n",
    "        plt.show()\n",
    "\n",
    "    return imArray_H\n",
    "\n",
    "def images_to_array(dataset_name='test', img_height=32, img_width=32):\n",
    "    if dataset_name == 'test' or dataset_name == 'train' or dataset_name == 'val':\n",
    "        path_to_data = '../../../datasets/original/' + dataset_name\n",
    "        folder_name_dict ={}\n",
    "        X =[]\n",
    "        y =[]\n",
    "        imgs_har = []\n",
    "        import os\n",
    "        count =0\n",
    "        for img_folder in os.scandir(path_to_data):\n",
    "            if img_folder.path.split('/')[-1] != \".DS_Store\":\n",
    "                path_ = img_folder.path\n",
    "                folder_name = path_.split('/')[-1]\n",
    "                print(dataset_name + folder_name)\n",
    "                folder_name_dict[path_.split('/')[-1]] = count\n",
    "\n",
    "                count = count + 1\n",
    "                nb_img = 0\n",
    "                for train_img in os.scandir(path_):\n",
    "                    if train_img.path.split('/')[-1] != \".DS_Store\":\n",
    "                        nb_img += 1\n",
    "                        # loads the image and convert it into the 3 channel BGR color image (matrice)\n",
    "                        img = cv2.imread(train_img.path)\n",
    "\n",
    "                        # resize the image 32 32*      \n",
    "                        scalled_raw_img = cv2.resize(img,(img_height,img_width))\n",
    "                        \n",
    "                        plotIt=False\n",
    "                        if nb_img <= 1:\n",
    "                            plotIt=True\n",
    "                        \n",
    "                        if dataset_name=='train':\n",
    "                            #begin wavelet transform\n",
    "                            img_har = w2d(scalled_raw_img,'db1',5, plotIt)   \n",
    "                        else:\n",
    "                            img_rgb_2_gray = cv2.cvtColor( scalled_raw_img,cv2.COLOR_RGB2GRAY )\n",
    "                            imArray =  np.float32(img_rgb_2_gray)\n",
    "                            img_har =  np.uint8(imArray)\n",
    "                        #resize \n",
    "                        scalled_har_img = cv2.resize(img_har,(img_height,img_width)) \n",
    "                        #Stack arrays in sequence vertically (row wise).   \n",
    "                        combined_img = np.vstack((scalled_raw_img.reshape(img_height*img_width*3,1),scalled_har_img.reshape(img_height*img_width*1,1)))\n",
    "                        X.append(combined_img)\n",
    "                        y.append(folder_name_dict[path_.split('/')[-1]])\n",
    "                            \n",
    "                print(nb_img)\n",
    "        return (X, y, folder_name_dict)\n",
    "    else:\n",
    "        return \"Wrong dataset_name\""
   ]
  },
  {
   "cell_type": "markdown",
   "id": "470e63ca-d11d-47c2-8aa8-2032bbf2fb9c",
   "metadata": {},
   "source": [
    "### Start"
   ]
  },
  {
   "cell_type": "code",
   "execution_count": 6,
   "id": "0d774a9e-361a-4f56-8adb-90e81bcf915d",
   "metadata": {},
   "outputs": [
    {
     "name": "stdout",
     "output_type": "stream",
     "text": [
      "testPNEUMONIE\n",
      "390\n",
      "testNORMAL\n",
      "234\n",
      "trainPNEUMONIE\n"
     ]
    },
    {
     "data": {
      "image/png": "[encoded data removed]",
      "text/plain": [
       "<Figure size 864x864 with 3 Axes>"
      ]
     },
     "metadata": {
      "needs_background": "light"
     },
     "output_type": "display_data"
    },
    {
     "name": "stdout",
     "output_type": "stream",
     "text": [
      "3875\n",
      "trainNORMAL\n"
     ]
    },
    {
     "data": {
      "image/png": "[encoded data removed]",
      "text/plain": [
       "<Figure size 864x864 with 3 Axes>"
      ]
     },
     "metadata": {
      "needs_background": "light"
     },
     "output_type": "display_data"
    },
    {
     "name": "stdout",
     "output_type": "stream",
     "text": [
      "1341\n",
      "valPNEUMONIE\n",
      "8\n",
      "valNORMAL\n",
      "8\n"
     ]
    }
   ],
   "source": [
    "(X_test, y_test, folder_name_dict) = images_to_array('test', img_height, img_width)\n",
    "(X_train, y_train, folder_name_dict) = images_to_array('train', img_height, img_width)\n",
    "(X_val, y_val, folder_name_dict) = images_to_array('val', img_height, img_width)"
   ]
  },
  {
   "cell_type": "markdown",
   "id": "553ddb14-c7b5-44dc-841e-fab16cb02c15",
   "metadata": {},
   "source": [
    "### Dataset output"
   ]
  },
  {
   "cell_type": "code",
   "execution_count": 7,
   "id": "9a5a51f6-5950-4bc6-92f8-84b8a13d42a1",
   "metadata": {},
   "outputs": [
    {
     "name": "stdout",
     "output_type": "stream",
     "text": [
      "{'PNEUMONIE': 0, 'NORMAL': 1}\n",
      "X_test len :624\n",
      "y_test len :624\n",
      "X_train len :5216\n",
      "y_train len :5216\n",
      "X_val len :16\n",
      "y_val len :16\n",
      "Test : 10.66%, Train : 89.07%, Val : 0.27%\n"
     ]
    }
   ],
   "source": [
    "print(folder_name_dict)\n",
    "\n",
    "print(\"X_test len :\" + str(len(X_test)))\n",
    "print(\"y_test len :\" + str(len(y_test)))\n",
    "print(\"X_train len :\" + str(len(X_train)))\n",
    "print(\"y_train len :\" + str(len(y_train)))\n",
    "print(\"X_val len :\" + str(len(X_val)))\n",
    "print(\"y_val len :\" + str(len(y_val)))\n",
    "total = len(X_test) + len(X_train) + len(X_val)\n",
    "print(\"Test : \" + str(round(len(X_test)/total*100, 2)) + \"%, Train : \" + str(round(len(X_train)/total*100, 2)) + \"%, Val : \" + str(round(len(X_val)/total*100, 2)) + \"%\")"
   ]
  },
  {
   "cell_type": "markdown",
   "id": "56abd493-b376-48d6-8815-b36eda166728",
   "metadata": {},
   "source": [
    "### Resize the arrays"
   ]
  },
  {
   "cell_type": "code",
   "execution_count": 8,
   "id": "9b43b192-f343-48a3-8baa-1ca0477b9a31",
   "metadata": {},
   "outputs": [],
   "source": [
    "X_test= np.array(X_test).reshape(len(X_test),(img_height * img_width * 4)).astype(float)\n",
    "X_train= np.array(X_train).reshape(len(X_train),(img_height * img_width * 4)).astype(float)\n",
    "X_val= np.array(X_val).reshape(len(X_val),(img_height * img_width * 4)).astype(float)"
   ]
  },
  {
   "cell_type": "markdown",
   "id": "bc0d1570-d0a3-4d96-a408-fae00f7b39ec",
   "metadata": {},
   "source": [
    "## Train, Test and val"
   ]
  },
  {
   "cell_type": "code",
   "execution_count": 9,
   "id": "2ee531b7-e60b-4d74-b3ca-da3656be9a5a",
   "metadata": {},
   "outputs": [],
   "source": [
    "from sklearn.model_selection import GridSearchCV\n",
    "from sklearn.pipeline import make_pipeline\n",
    "from sklearn.preprocessing import StandardScaler\n",
    "from sklearn.svm import SVC\n",
    "\n",
    "def model_svm(X_train, y_train, gamma='auto', probability=True, C=[1,5,10], kernel=['linear','rbf'], coef0=[0]):\n",
    "    model_params ={\n",
    "        'svm':{\n",
    "            'model':SVC(gamma=gamma,probability=probability),\n",
    "            'params':{\n",
    "                'svc__C':C,\n",
    "                'svc__kernel':kernel,\n",
    "                'svc__coef0': coef0\n",
    "            }\n",
    "        }\n",
    "    }\n",
    "    scores =[]\n",
    "    best_estimators ={}\n",
    "\n",
    "    for algo_names, algo in model_params.items():\n",
    "        pipe = make_pipeline(StandardScaler(), algo['model'])\n",
    "        clf = GridSearchCV(pipe,algo['params'],cv=5,return_train_score=False)\n",
    "        clf.fit(X_train,y_train)\n",
    "        scores.append(\n",
    "            {\n",
    "                'model':algo_names,\n",
    "\n",
    "                'best_score':clf.best_score_,\n",
    "                'best_params': clf.best_params_\n",
    "            }\n",
    "        )\n",
    "        best_estimators[algo_names] = clf.best_estimator_#returns model with best params\n",
    "    return (scores, best_estimators)\n"
   ]
  },
  {
   "cell_type": "code",
   "execution_count": 10,
   "id": "346d389d-ee65-4b5c-990a-ce950d2a81ba",
   "metadata": {},
   "outputs": [
    {
     "name": "stdout",
     "output_type": "stream",
     "text": [
      "  model  best_score                                        best_params\n",
      "0   svm    0.955523  {'svc__C': 5, 'svc__coef0': 0, 'svc__kernel': ...\n",
      "SVM test : \n",
      "0.8012820512820513\n",
      "SVM val : \n",
      "0.9375\n"
     ]
    }
   ],
   "source": [
    "# train\n",
    "(scores, best_estimators) = model_svm(X_train, y_train, gamma='auto', probability=True, C=C, kernel=kernel, coef0=coef0)\n",
    "pd.set_option('display.width', 400)\n",
    "pd.set_option('display.max_columns', 10)\n",
    "df = pd.DataFrame(scores,columns=['model','best_score','best_params' ])\n",
    "print(df)\n",
    "\n",
    "# test\n",
    "print(\"SVM test : \")\n",
    "print(best_estimators['svm'].score(X_test,y_test))\n",
    "\n",
    "# val \n",
    "print(\"SVM val : \")\n",
    "print(best_estimators['svm'].score(X_val,y_val))"
   ]
  },
  {
   "cell_type": "markdown",
   "id": "84fa9583-cdda-4475-b015-330b8885401c",
   "metadata": {},
   "source": [
    "# Test 1.1: Images size = 32 x 32 & model : kernel=rbf & C=5"
   ]
  },
  {
   "cell_type": "code",
   "execution_count": 11,
   "id": "fbddeba9-e86a-48cf-b9dc-07cdf01971a5",
   "metadata": {},
   "outputs": [],
   "source": [
    "C=[5]\n",
    "kernel=['rbf']\n",
    "coef0=[0]"
   ]
  },
  {
   "cell_type": "code",
   "execution_count": 12,
   "id": "35e524d3-950b-4f70-98d5-021dd921b09d",
   "metadata": {},
   "outputs": [
    {
     "name": "stdout",
     "output_type": "stream",
     "text": [
      "  model  best_score                                        best_params\n",
      "0   svm     0.97316  {'svc__C': 5, 'svc__coef0': 0, 'svc__kernel': ...\n",
      "SVM test : \n",
      "0.7275641025641025\n",
      "SVM val : \n",
      "0.625\n"
     ]
    }
   ],
   "source": [
    "# train\n",
    "(scores, best_estimators) = model_svm(X_train, y_train, gamma='auto', probability=True, C=C, kernel=kernel, coef0=coef0)\n",
    "pd.set_option('display.width', 400)\n",
    "pd.set_option('display.max_columns', 10)\n",
    "df = pd.DataFrame(scores,columns=['model','best_score','best_params' ])\n",
    "print(df)\n",
    "\n",
    "# test\n",
    "print(\"SVM test : \")\n",
    "print(best_estimators['svm'].score(X_test,y_test))\n",
    "\n",
    "# val \n",
    "print(\"SVM val : \")\n",
    "print(best_estimators['svm'].score(X_val,y_val))"
   ]
  },
  {
   "cell_type": "markdown",
   "id": "7d502a6c-504e-437c-9cb0-3dfdffbaaa6d",
   "metadata": {},
   "source": [
    "# Test 1.1: Images size = 32 x 32 & model : kernel=linear & C=10"
   ]
  },
  {
   "cell_type": "code",
   "execution_count": 19,
   "id": "52178854-9956-4a8d-842c-0ed3aa33ab0d",
   "metadata": {
    "tags": []
   },
   "outputs": [],
   "source": [
    "C=[10]\n",
    "kernel=['linear']\n",
    "coef0=[0]"
   ]
  },
  {
   "cell_type": "code",
   "execution_count": 20,
   "id": "02876566-416e-433c-9f85-7d27cee1f92c",
   "metadata": {
    "tags": []
   },
   "outputs": [
    {
     "name": "stdout",
     "output_type": "stream",
     "text": [
      "  model  best_score                                        best_params\n",
      "0   svm    0.955523  {'svc__C': 10, 'svc__coef0': 0, 'svc__kernel':...\n",
      "SVM test : \n",
      "0.8012820512820513\n",
      "SVM val : \n",
      "0.9375\n"
     ]
    }
   ],
   "source": [
    "# train\n",
    "(scores, best_estimators) = model_svm(X_train, y_train, gamma='auto', probability=True, C=C, kernel=kernel, coef0=coef0)\n",
    "pd.set_option('display.width', 400)\n",
    "pd.set_option('display.max_columns', 10)\n",
    "df = pd.DataFrame(scores,columns=['model','best_score','best_params' ])\n",
    "print(df)\n",
    "\n",
    "# test\n",
    "print(\"SVM test : \")\n",
    "print(best_estimators['svm'].score(X_test,y_test))\n",
    "\n",
    "# val \n",
    "print(\"SVM val : \")\n",
    "print(best_estimators['svm'].score(X_val,y_val))"
   ]
  },
  {
   "cell_type": "markdown",
   "id": "a0c20232-1f12-43f6-99b5-9026575847f4",
   "metadata": {
    "tags": []
   },
   "source": [
    "# Test 2 : Images size = 40 x 40 & model : kernel=linear & C=10"
   ]
  },
  {
   "cell_type": "code",
   "execution_count": 21,
   "id": "f08ca78d-04fa-43c6-aa7e-36c06580e025",
   "metadata": {
    "tags": []
   },
   "outputs": [],
   "source": [
    "img_height = 40\n",
    "img_width = 40"
   ]
  },
  {
   "cell_type": "code",
   "execution_count": 22,
   "id": "d171c23b-1de9-4c8b-8090-8cfb8c725e4b",
   "metadata": {
    "tags": []
   },
   "outputs": [],
   "source": [
    "C=[10]\n",
    "kernel=['linear']\n",
    "coef0=[0]"
   ]
  },
  {
   "cell_type": "code",
   "execution_count": 23,
   "id": "6d389c05-4193-4c1c-b2b5-fd2f1a45a6ca",
   "metadata": {
    "tags": []
   },
   "outputs": [
    {
     "name": "stdout",
     "output_type": "stream",
     "text": [
      "testPNEUMONIE\n",
      "390\n",
      "testNORMAL\n",
      "234\n",
      "trainPNEUMONIE\n"
     ]
    },
    {
     "data": {
      "image/png": "[encoded data removed]",
      "text/plain": [
       "<Figure size 864x864 with 3 Axes>"
      ]
     },
     "metadata": {
      "needs_background": "light"
     },
     "output_type": "display_data"
    },
    {
     "name": "stdout",
     "output_type": "stream",
     "text": [
      "3875\n",
      "trainNORMAL\n"
     ]
    },
    {
     "data": {
      "image/png": "[encoded data removed]",
      "text/plain": [
       "<Figure size 864x864 with 3 Axes>"
      ]
     },
     "metadata": {
      "needs_background": "light"
     },
     "output_type": "display_data"
    },
    {
     "name": "stdout",
     "output_type": "stream",
     "text": [
      "1341\n",
      "valPNEUMONIE\n",
      "8\n",
      "valNORMAL\n",
      "8\n"
     ]
    }
   ],
   "source": [
    "(X_test, y_test, folder_name_dict) = images_to_array('test', img_height, img_width)\n",
    "(X_train, y_train, folder_name_dict) = images_to_array('train', img_height, img_width)\n",
    "(X_val, y_val, folder_name_dict) = images_to_array('val', img_height, img_width)"
   ]
  },
  {
   "cell_type": "code",
   "execution_count": 24,
   "id": "1016741a-89e9-4f2f-aa85-3f6a5025d6e1",
   "metadata": {
    "tags": []
   },
   "outputs": [],
   "source": [
    "X_test= np.array(X_test).reshape(len(X_test),(img_height * img_width * 4)).astype(float)\n",
    "X_train= np.array(X_train).reshape(len(X_train),(img_height * img_width * 4)).astype(float)\n",
    "X_val= np.array(X_val).reshape(len(X_val),(img_height * img_width * 4)).astype(float)"
   ]
  },
  {
   "cell_type": "code",
   "execution_count": 25,
   "id": "54c22a79-108c-454d-954b-9fb2e8ac646e",
   "metadata": {
    "tags": []
   },
   "outputs": [
    {
     "name": "stdout",
     "output_type": "stream",
     "text": [
      "  model  best_score                                        best_params\n",
      "0   svm    0.962041  {'svc__C': 10, 'svc__coef0': 0, 'svc__kernel':...\n",
      "SVM test : \n",
      "0.8317307692307693\n",
      "SVM val : \n",
      "0.8125\n"
     ]
    }
   ],
   "source": [
    "# train\n",
    "(scores, best_estimators) = model_svm(X_train, y_train, gamma='auto', probability=True, C=C, kernel=kernel, coef0=coef0)\n",
    "pd.set_option('display.width', 400)\n",
    "pd.set_option('display.max_columns', 10)\n",
    "df = pd.DataFrame(scores,columns=['model','best_score','best_params' ])\n",
    "print(df)\n",
    "\n",
    "# test\n",
    "print(\"SVM test : \")\n",
    "print(best_estimators['svm'].score(X_test,y_test))\n",
    "\n",
    "# val \n",
    "print(\"SVM val : \")\n",
    "print(best_estimators['svm'].score(X_val,y_val))"
   ]
  },
  {
   "cell_type": "markdown",
   "id": "58e5b7b0-681c-4a78-8d4f-13b6661406f6",
   "metadata": {
    "tags": []
   },
   "source": [
    "# Test 3 : Images size = 50 x 50 & model : kernel=linear & C=10"
   ]
  },
  {
   "cell_type": "code",
   "execution_count": 26,
   "id": "24539179-bf20-4fb2-ad3f-25a9b68fcd46",
   "metadata": {
    "tags": []
   },
   "outputs": [],
   "source": [
    "img_height = 50\n",
    "img_width = 50"
   ]
  },
  {
   "cell_type": "code",
   "execution_count": 27,
   "id": "5bd0a1f3-d5b4-4599-9d00-c19f747fb528",
   "metadata": {
    "tags": []
   },
   "outputs": [],
   "source": [
    "C=[10]\n",
    "kernel=['linear']\n",
    "coef0=[0]"
   ]
  },
  {
   "cell_type": "code",
   "execution_count": 28,
   "id": "827530b7-4173-42d4-ba6c-660a38a91e2a",
   "metadata": {
    "tags": []
   },
   "outputs": [
    {
     "name": "stdout",
     "output_type": "stream",
     "text": [
      "testPNEUMONIE\n",
      "390\n",
      "testNORMAL\n",
      "234\n",
      "trainPNEUMONIE\n"
     ]
    },
    {
     "data": {
      "image/png": "[encoded data removed]",
      "text/plain": [
       "<Figure size 864x864 with 3 Axes>"
      ]
     },
     "metadata": {
      "needs_background": "light"
     },
     "output_type": "display_data"
    },
    {
     "name": "stdout",
     "output_type": "stream",
     "text": [
      "3875\n",
      "trainNORMAL\n"
     ]
    },
    {
     "data": {
      "image/png": "[encoded data removed]",
      "text/plain": [
       "<Figure size 864x864 with 3 Axes>"
      ]
     },
     "metadata": {
      "needs_background": "light"
     },
     "output_type": "display_data"
    },
    {
     "name": "stdout",
     "output_type": "stream",
     "text": [
      "1341\n",
      "valPNEUMONIE\n",
      "8\n",
      "valNORMAL\n",
      "8\n"
     ]
    }
   ],
   "source": [
    "(X_test, y_test, folder_name_dict) = images_to_array('test', img_height, img_width)\n",
    "(X_train, y_train, folder_name_dict) = images_to_array('train', img_height, img_width)\n",
    "(X_val, y_val, folder_name_dict) = images_to_array('val', img_height, img_width)"
   ]
  },
  {
   "cell_type": "code",
   "execution_count": 29,
   "id": "cf4b49c1-bd3d-4164-adeb-ae75d6a2afd7",
   "metadata": {
    "tags": []
   },
   "outputs": [],
   "source": [
    "X_test= np.array(X_test).reshape(len(X_test),(img_height * img_width * 4)).astype(float)\n",
    "X_train= np.array(X_train).reshape(len(X_train),(img_height * img_width * 4)).astype(float)\n",
    "X_val= np.array(X_val).reshape(len(X_val),(img_height * img_width * 4)).astype(float)"
   ]
  },
  {
   "cell_type": "code",
   "execution_count": 30,
   "id": "2f7fedb5-73ef-4441-8113-0cd512fb453a",
   "metadata": {
    "tags": []
   },
   "outputs": [
    {
     "name": "stdout",
     "output_type": "stream",
     "text": [
      "  model  best_score                                        best_params\n",
      "0   svm    0.964533  {'svc__C': 10, 'svc__coef0': 0, 'svc__kernel':...\n",
      "SVM test : \n",
      "0.8221153846153846\n",
      "SVM val : \n",
      "0.8125\n"
     ]
    }
   ],
   "source": [
    "# train\n",
    "(scores, best_estimators) = model_svm(X_train, y_train, gamma='auto', probability=True, C=C, kernel=kernel, coef0=coef0)\n",
    "pd.set_option('display.width', 400)\n",
    "pd.set_option('display.max_columns', 10)\n",
    "df = pd.DataFrame(scores,columns=['model','best_score','best_params' ])\n",
    "print(df)\n",
    "\n",
    "# test\n",
    "print(\"SVM test : \")\n",
    "print(best_estimators['svm'].score(X_test,y_test))\n",
    "\n",
    "# val \n",
    "print(\"SVM val : \")\n",
    "print(best_estimators['svm'].score(X_val,y_val))"
   ]
  },
  {
   "cell_type": "markdown",
   "id": "92f7d5d1-4e88-4f5f-a56d-143b8bee784f",
   "metadata": {
    "tags": []
   },
   "source": [
    "# Test 4 : Images size = 60 x 60 & model : kernel=linear & C=10"
   ]
  },
  {
   "cell_type": "code",
   "execution_count": 31,
   "id": "cbe347ed-de96-4062-91f7-9071d89f580a",
   "metadata": {
    "tags": []
   },
   "outputs": [],
   "source": [
    "img_height = 60\n",
    "img_width = 60"
   ]
  },
  {
   "cell_type": "code",
   "execution_count": 32,
   "id": "89ed141f-8298-4397-ab4e-eb1455efe791",
   "metadata": {
    "tags": []
   },
   "outputs": [],
   "source": [
    "C=[10]\n",
    "kernel=['linear']\n",
    "coef0=[0]"
   ]
  },
  {
   "cell_type": "code",
   "execution_count": 33,
   "id": "7483f814-a61f-4e6b-8c1d-ef51cb6d5215",
   "metadata": {
    "tags": []
   },
   "outputs": [
    {
     "name": "stdout",
     "output_type": "stream",
     "text": [
      "testPNEUMONIE\n",
      "390\n",
      "testNORMAL\n",
      "234\n",
      "trainPNEUMONIE\n"
     ]
    },
    {
     "data": {
      "image/png": "[encoded data removed]",
      "text/plain": [
       "<Figure size 864x864 with 3 Axes>"
      ]
     },
     "metadata": {
      "needs_background": "light"
     },
     "output_type": "display_data"
    },
    {
     "name": "stdout",
     "output_type": "stream",
     "text": [
      "3875\n",
      "trainNORMAL\n"
     ]
    },
    {
     "data": {
      "image/png": "[encoded data removed]",
      "text/plain": [
       "<Figure size 864x864 with 3 Axes>"
      ]
     },
     "metadata": {
      "needs_background": "light"
     },
     "output_type": "display_data"
    },
    {
     "name": "stdout",
     "output_type": "stream",
     "text": [
      "1341\n",
      "valPNEUMONIE\n",
      "8\n",
      "valNORMAL\n",
      "8\n"
     ]
    }
   ],
   "source": [
    "(X_test, y_test, folder_name_dict) = images_to_array('test', img_height, img_width)\n",
    "(X_train, y_train, folder_name_dict) = images_to_array('train', img_height, img_width)\n",
    "(X_val, y_val, folder_name_dict) = images_to_array('val', img_height, img_width)"
   ]
  },
  {
   "cell_type": "code",
   "execution_count": 34,
   "id": "1885e65b-581e-4fbe-af1d-044a24b88c77",
   "metadata": {
    "tags": []
   },
   "outputs": [],
   "source": [
    "X_test= np.array(X_test).reshape(len(X_test),(img_height * img_width * 4)).astype(float)\n",
    "X_train= np.array(X_train).reshape(len(X_train),(img_height * img_width * 4)).astype(float)\n",
    "X_val= np.array(X_val).reshape(len(X_val),(img_height * img_width * 4)).astype(float)"
   ]
  },
  {
   "cell_type": "code",
   "execution_count": 35,
   "id": "4555c0cf-e8c1-4b47-8b25-02032ba1eb35",
   "metadata": {
    "tags": []
   },
   "outputs": [
    {
     "name": "stdout",
     "output_type": "stream",
     "text": [
      "  model  best_score                                        best_params\n",
      "0   svm    0.964341  {'svc__C': 10, 'svc__coef0': 0, 'svc__kernel':...\n",
      "SVM test : \n",
      "0.842948717948718\n",
      "SVM val : \n",
      "0.875\n"
     ]
    }
   ],
   "source": [
    "# train\n",
    "(scores, best_estimators) = model_svm(X_train, y_train, gamma='auto', probability=True, C=C, kernel=kernel, coef0=coef0)\n",
    "pd.set_option('display.width', 400)\n",
    "pd.set_option('display.max_columns', 10)\n",
    "df = pd.DataFrame(scores,columns=['model','best_score','best_params' ])\n",
    "print(df)\n",
    "\n",
    "# test\n",
    "print(\"SVM test : \")\n",
    "print(best_estimators['svm'].score(X_test,y_test))\n",
    "\n",
    "# val \n",
    "print(\"SVM val : \")\n",
    "print(best_estimators['svm'].score(X_val,y_val))"
   ]
  },
  {
   "cell_type": "code",
   "execution_count": null,
   "id": "aafbd6c6-7414-4bdf-bb47-13045f06c275",
   "metadata": {},
   "outputs": [],
   "source": []
  },
  {
   "cell_type": "code",
   "execution_count": null,
   "id": "1262db58-c203-4f5c-853a-a0f749feb1c7",
   "metadata": {},
   "outputs": [],
   "source": []
  }
 ],
 "metadata": {
  "kernelspec": {
   "display_name": "SVM",
   "language": "python",
   "name": "svm"
  },
  "language_info": {
   "codemirror_mode": {
    "name": "ipython",
    "version": 3
   },
   "file_extension": ".py",
   "mimetype": "text/x-python",
   "name": "python",
   "nbconvert_exporter": "python",
   "pygments_lexer": "ipython3",
   "version": "3.8.2"
  }
 },
 "nbformat": 4,
 "nbformat_minor": 5
}
