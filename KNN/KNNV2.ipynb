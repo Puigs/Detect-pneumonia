{
  "cells": [
    {
      "cell_type": "markdown",
      "metadata": {
        "id": "zsJ7ktg1I2_9"
      },
      "source": [
        "# KNeighbors classification\n",
        "\n",
        "In this notebook, we are aiming at building a [KNeighbors](https://fr.wikipedia.org/wiki/M%C3%A9thode_des_k_plus_proches_voisins) model that can allow us to recognize pneumoonia on Xrays image data.\n",
        "\n",
        "This algorithm is supervised(which means we use labels: \"NORMAL\" and \"PNEUMONIA\"). It computes the distance between datapoints in a vectorized space in order to make clusters.  \n",
        "Our dataset is composed of 5856 xrays images containing \"train\", \"test\" and \"validation\" subcategories.\n",
        "\n",
        "1.   Import libraries\n",
        "2.   Mount our google drive\n",
        "3.   Format our data\n",
        "4.   Benchmark with our \"k\" parameter\n",
        "5.   Build our model\n",
        "6.   Confusion matrix\n",
        "7.   Save model\n",
        "\n",
        "\n",
        "![alt text](https://ykhoa.org/d/images/PI/55943_Pneumonia_anatomy_PI.jpg \"Pneumonia\")\n",
        "\n",
        " "
      ]
    },
    {
      "cell_type": "markdown",
      "metadata": {
        "id": "rxAAGVlLRIZF"
      },
      "source": [
        "## 1. Import libraries\n",
        "\n",
        "We import here libraries to manipulate data, images, plots...  \n",
        "We particularly need some [sklearn](https://scikit-learn.org/stable/) functions that implements the KNN algorithm and other usefull tools such as metrics or confusion matrix plot."
      ]
    },
    {
      "cell_type": "code",
      "execution_count": null,
      "metadata": {
        "id": "u6jrbKf4Ep5i"
      },
      "outputs": [],
      "source": [
        "from google.colab import drive                        # mount google drive data\n",
        "import numpy as np                                    # vector computation\n",
        "import cv2 as cv                                      # image manipulation\n",
        "import os                                             # handle filesystem\n",
        "import matplotlib.pyplot as plt                       # plot library\n",
        "from sklearn.metrics import plot_confusion_matrix     # plot conf matrix\n",
        "import pandas as pd                                   # handle dataframes\n",
        "from sklearn.model_selection import train_test_split  # data formatting\n",
        "from sklearn.neighbors import KNeighborsClassifier    # model algorithm\n",
        "from sklearn import metrics                           # model metrics\n",
        "from sklearn.metrics import classification_report     # model analysis\n",
        "\n"
      ]
    },
    {
      "cell_type": "markdown",
      "metadata": {
        "id": "ZFq3fjUfI120"
      },
      "source": [
        "## 2. Mount our google drive to access the dataset\n",
        "\n",
        "We host our data on a drive to avoid re-uploading it each time on our google colab notebook.  \n",
        "We set variables to store path of train, test and val part of dataset.  \n",
        "* Train data will be used to ...train our model.  \n",
        "* Test data will be used to ... test our model.  \n",
        "* Val data will be used to ... validate our model after the training."
      ]
    },
    {
      "cell_type": "code",
      "execution_count": null,
      "metadata": {
        "colab": {
          "base_uri": "https://localhost:8080/"
        },
        "id": "Y8Rh7zmfEwrL",
        "outputId": "da6464f5-32f3-4649-ccce-5c8c9baa4060"
      },
      "outputs": [],
      "source": [
        "drive.mount('/content/drive', force_remount=True)\n",
        "train_path = '/content/drive/MyDrive/chest_Xray/chest_Xray/train'\n",
        "test_path = '/content/drive/MyDrive/chest_Xray/chest_Xray/test'\n",
        "val_path = '/content/drive/MyDrive/chest_Xray/chest_Xray/val'\n",
        "\n",
        "train_path_norm = f\"{train_path}/NORMAL\"\n",
        "train_path_pneu = f\"{train_path}/PNEUMONIA\"\n",
        "\n",
        "test_path_norm = f\"{test_path}/NORMAL\"\n",
        "test_path_pneu = f\"{test_path}/PNEUMONIA\"\n",
        "\n",
        "val_path_norm = f\"{val_path}/NORMAL\"\n",
        "val_path_pneu = f\"{val_path}/PNEUMONIA\""
      ]
    },
    {
      "cell_type": "markdown",
      "metadata": {
        "id": "NLR96DQaTJ-p"
      },
      "source": [
        "## 3.   Format our data\n",
        "Our algorithm can't learn from raw images: we need to formate it in numpy arrays in order to have fast & efficient computation.\n",
        "\n",
        "We also know from our data analysis notebook that the sizes of our images data need to be standardized, our `dim` variable define standard format at 50/50 pixels."
      ]
    },
    {
      "cell_type": "code",
      "execution_count": null,
      "metadata": {
        "id": "ZDzAfGoZLCNv"
      },
      "outputs": [],
      "source": [
        "from pandas.core.arrays import boolean\n",
        "dir_base = \"/content/drive/MyDrive/chest_Xray/chest_Xray\"\n",
        "dim = (300,300)\n",
        "\n",
        "def get_data(path: str, label: str, dtype: str, process_flipp: boolean = False) -> pd.DataFrame:\n",
        "  '''\n",
        "  Get data from directory and return it as a pandas Dataframe with 2 columns \"images\"/\"labels\"\n",
        "  :param path: path of the directory where we fecth our data\n",
        "  :param label: label of the data in the directory\n",
        "  :param dtype: \"test\", \"train\" or \"val\"\n",
        "  :param process_flipp: boolean to flip our images \n",
        "  :return: pandas dataframe containing image vector and label\n",
        "  '''\n",
        "  result = []\n",
        "  gen = (item for item in os.listdir(path) if item.endswith('.jpeg'))\n",
        "  for i in gen:\n",
        "    img_path = f\"{dir_base}/{dtype}/{label}/{i}\"\n",
        "    img = cv.imread(img_path)\n",
        "    img = cv.resize(img, dim, interpolation = cv.INTER_AREA).reshape(1,-1)\n",
        "    result.append((img, label))\n",
        "    if process_flipp:\n",
        "      result.append((get_flipped_image_arr(img_path), label))\n",
        "  return pd.DataFrame(result, columns=['image', 'label'], index=None)\n"
      ]
    },
    {
      "cell_type": "code",
      "execution_count": null,
      "metadata": {
        "id": "JB3PKmV9EsAJ"
      },
      "outputs": [],
      "source": [
        "def get_flipped_image_arr(path:str) -> np.array:\n",
        "  '''\n",
        "  Return flipped image\n",
        "  :path: path of the image\n",
        "  :return: numpy array containing image pixels  \n",
        "  '''\n",
        "  original = cv.imread(path) \n",
        "  img = cv.flip(original, 1)   # flip horizontally\n",
        "  img = cv.resize(img, dim ,interpolation = cv.INTER_AREA).reshape(1,-1)\n",
        "  return img"
      ]
    },
    {
      "cell_type": "code",
      "execution_count": null,
      "metadata": {
        "id": "YIG0PIO2VGdG"
      },
      "outputs": [],
      "source": [
        "def plot_data(k_values, accuracy):\n",
        "  '''\n",
        "  plot \n",
        "    x number of neighbor\n",
        "    y accuracy\n",
        "  :param k_values:  different values of k we trie to benchmark\n",
        "  :param accuracy:  accuracy per k value\n",
        "  ''' \n",
        "  fig = plt.figure()\n",
        "  fig.subplots_adjust(top=0.8)\n",
        "  ax1 = fig.add_subplot()\n",
        "  ax1.set_ylabel('Accuracy')\n",
        "  ax1.set_xlabel('K val')\n",
        "  plt.plot(k_values,accuracy,label='Accuracy for k params')\n",
        "  plt.scatter(k_values,accuracy,c=k_values,alpha=1)\n",
        "  plt.legend()\n",
        "  plt.show()\n",
        "\n"
      ]
    },
    {
      "cell_type": "code",
      "execution_count": null,
      "metadata": {
        "id": "iWX0H1m5V7vK"
      },
      "outputs": [],
      "source": [
        "def confusion_matrix(model, x, y):\n",
        "  '''\n",
        "  Plot confusion matrix\n",
        "  :param model: Knn instance\n",
        "  :param x: data image to array test subset\n",
        "  :param y: data labels to array test subset\n",
        "  '''\n",
        "  disp = plot_confusion_matrix(model, x, y, cmap=plt.cm.Blues, normalize=None)\n",
        "  plt.show()"
      ]
    },
    {
      "cell_type": "code",
      "execution_count": null,
      "metadata": {
        "id": "1WpTiBE8WOoV"
      },
      "outputs": [],
      "source": [
        "data_normal = get_data(train_path_norm, 'NORMAL',  'train', True)\n",
        "data_pneu = get_data(train_path_pneu, 'PNEUMONIA', 'train', False)"
      ]
    },
    {
      "cell_type": "code",
      "execution_count": null,
      "metadata": {
        "colab": {
          "base_uri": "https://localhost:8080/",
          "height": 206
        },
        "id": "NkeoDre65kjc",
        "outputId": "fa9b415a-152a-43f6-fbc1-9382330ead62"
      },
      "outputs": [],
      "source": [
        "data_normal.head()"
      ]
    },
    {
      "cell_type": "code",
      "execution_count": null,
      "metadata": {
        "colab": {
          "base_uri": "https://localhost:8080/",
          "height": 206
        },
        "id": "o9x7L1Jk5raw",
        "outputId": "b2a33308-b291-4ef4-d168-6f5dfb73c2f1"
      },
      "outputs": [],
      "source": [
        "data_pneu.head()"
      ]
    },
    {
      "cell_type": "code",
      "execution_count": null,
      "metadata": {
        "id": "FvqhNJHAFkDp"
      },
      "outputs": [],
      "source": [
        "data = pd.concat([data_normal, data_pneu])\n",
        "images = data.image\n",
        "y = data.label\n",
        "\n",
        "X = [image[0] for image in images.values]\n",
        "X = np.array(X, dtype=object)"
      ]
    },
    {
      "cell_type": "code",
      "execution_count": null,
      "metadata": {
        "colab": {
          "base_uri": "https://localhost:8080/"
        },
        "id": "zRFZe31Y6atu",
        "outputId": "22836b73-6fa9-4a25-9424-e7f181c15786"
      },
      "outputs": [],
      "source": [
        "print(f\"\"\"\n",
        "  X shape: {X.shape}\n",
        "  y shape: {y.shape}\n",
        "\"\"\")"
      ]
    },
    {
      "cell_type": "code",
      "execution_count": null,
      "metadata": {
        "id": "vmqKloY05Itx"
      },
      "outputs": [],
      "source": [
        "X_train, X_test, y_train, y_test = train_test_split(X, y, test_size=0.70, random_state=30)"
      ]
    },
    {
      "cell_type": "code",
      "execution_count": null,
      "metadata": {
        "colab": {
          "base_uri": "https://localhost:8080/"
        },
        "id": "jlLZhS5r74xz",
        "outputId": "13b1ffdd-7f28-4c71-93ac-094f4bd2693e"
      },
      "outputs": [],
      "source": [
        "print('X train shape:',X_train.shape)\n",
        "print('Y train shape:',y_train.shape)\n",
        "\n",
        "print('X test shape:',X_test.shape)\n",
        "print('Y test shape:',y_test.shape)"
      ]
    },
    {
      "cell_type": "code",
      "execution_count": null,
      "metadata": {
        "colab": {
          "base_uri": "https://localhost:8080/"
        },
        "id": "pMKGTuPU778u",
        "outputId": "2610bb98-0e90-4e4c-af93-7aef1e9f1421"
      },
      "outputs": [],
      "source": [
        "print('Classes: ',np.unique(y_train))\n"
      ]
    },
    {
      "cell_type": "markdown",
      "metadata": {
        "id": "KTgdc3GDDxEM"
      },
      "source": [
        "## 4. Benchmark with our \"k\" parameter\n",
        "\n",
        "We notice here that the best number of neighbors is 10 in order to have the best accuracy.\n",
        "\n",
        "We chose the accuracy metric among others [metrics available for classification](https://scikit-learn.org/stable/modules/model_evaluation.html)."
      ]
    },
    {
      "cell_type": "code",
      "execution_count": null,
      "metadata": {
        "colab": {
          "base_uri": "https://localhost:8080/",
          "height": 1000
        },
        "id": "aNbhE28O7_Bn",
        "outputId": "27dac7db-58dd-43fc-d4cc-56c8161c5034"
      },
      "outputs": [],
      "source": [
        "k_values = [1, 3, 5, 10, 20, 50, 100]\n",
        "accuracy_values = []\n",
        "for k in k_values:\n",
        "    model = KNeighborsClassifier(n_neighbors=k)\n",
        "    model.fit(X_train,y_train)\n",
        "    predictions = model.predict(X_test)\n",
        "    acc = metrics.accuracy_score(y_test, predictions)\n",
        "    accuracy_values.append(acc)\n",
        "    print('Accuracy for k={}:'.format(str(k)),acc)\n",
        "    print('\\n')\n",
        "    print(classification_report(y_test, predictions))\n",
        "    print('**************************************************')\n",
        "    print('\\n')\n",
        "plot_data(k_values,accuracy_values)"
      ]
    },
    {
      "cell_type": "markdown",
      "metadata": {
        "id": "KMdh00eMz2o5"
      },
      "source": [
        "## 5.   Build our model\n",
        "We instanciate the classifier from sklearn library with the best \"k\" parameter we benchmarked earlier.\n",
        "\n",
        "`knn_model.fit` take our data in `x` and our labels in `y`."
      ]
    },
    {
      "cell_type": "code",
      "execution_count": null,
      "metadata": {
        "colab": {
          "base_uri": "https://localhost:8080/"
        },
        "id": "aO75FBRiD9wv",
        "outputId": "52ca375f-753c-489f-dcac-4b78f69add9d"
      },
      "outputs": [],
      "source": [
        "knn_model = KNeighborsClassifier(n_neighbors=10)\n",
        "knn_model.fit(X,y)"
      ]
    },
    {
      "cell_type": "code",
      "execution_count": null,
      "metadata": {
        "id": "v0ctdu9PEDIN"
      },
      "outputs": [],
      "source": [
        "# test data\n",
        "test_data_norm = get_data(test_path_norm,'NORMAL','test',False)\n",
        "test_data_pneu = get_data(test_path_pneu,'PNEUMONIA','test',False)\n",
        "\n",
        "test_data_total = pd.concat([test_data_norm,test_data_pneu])\n",
        "\n",
        "y_test_data = test_data_total.label\n",
        "\n",
        "X_test_data = []\n",
        "for i in test_data_total.image.values:\n",
        "    X_test_data.append(i[0])\n",
        "    \n",
        "X_test_data = np.array(X_test_data)"
      ]
    },
    {
      "cell_type": "markdown",
      "metadata": {
        "id": "zkjBRrXa2CFy"
      },
      "source": [
        "## 6. Confusion matrix\n",
        "We use a module from sklearn to generate a [confusion matrix](https://fr.wikipedia.org/wiki/Matrice_de_confusion).  \n",
        "It is usefull to measure the efficiency of our model.\n",
        "We notice that we have a annoying number of false positive: model classified a normal image as \"pneumonia\" 132 time. In an other hand, the model almost never failed in recognizing a pneumonia image."
      ]
    },
    {
      "cell_type": "code",
      "execution_count": null,
      "metadata": {
        "colab": {
          "base_uri": "https://localhost:8080/",
          "height": 507
        },
        "id": "HpiYrAi5EZnj",
        "outputId": "690a7dbf-171d-4aae-e25d-5a9aa3e38078"
      },
      "outputs": [],
      "source": [
        "predictions_test = knn_model.predict(X_test_data)\n",
        "acc_test = metrics.accuracy_score(y_test_data, predictions_test)\n",
        "print('Accuracy for test',acc_test)\n",
        "print(classification_report(y_test_data, predictions_test))\n",
        "confusion_matrix(knn_model,X_test_data,y_test_data)"
      ]
    },
    {
      "cell_type": "markdown",
      "metadata": {
        "id": "IcFYFGXl5HSw"
      },
      "source": [
        "## 7. Save model\n",
        "\n",
        "We save our model under [onnx](https://fr.wikipedia.org/wiki/Open_Neural_Network_Exchange) format in order to benchmark our knn model with others model in our cuctom script.  \n",
        "It is usefull for interoperability and to visualise our model mor clearly."
      ]
    },
    {
      "cell_type": "code",
      "execution_count": null,
      "metadata": {
        "colab": {
          "base_uri": "https://localhost:8080/"
        },
        "id": "EOSo9lkV7CPw",
        "outputId": "1060b25e-f192-4110-a987-ece4e6561b05"
      },
      "outputs": [],
      "source": [
        "!pip install skl2onnx"
      ]
    },
    {
      "cell_type": "code",
      "execution_count": null,
      "metadata": {
        "id": "U-OL4zl-5GN8"
      },
      "outputs": [],
      "source": [
        "from skl2onnx import convert_sklearn\n",
        "\n",
        "from skl2onnx.common.data_types import FloatTensorType\n",
        "initial_type = [('float_input', FloatTensorType([None, 4]))]\n",
        "onx = convert_sklearn(knn_model, initial_types=initial_type)\n",
        "with open(\"knn_model_pneumonia.onnx\", \"wb\") as f:\n",
        "    f.write(onx.SerializeToString())"
      ]
    }
  ],
  "metadata": {
    "colab": {
      "collapsed_sections": [],
      "name": "KNNV2.ipynb",
      "provenance": []
    },
    "kernelspec": {
      "display_name": "Python 3",
      "name": "python3"
    },
    "language_info": {
      "name": "python"
    }
  },
  "nbformat": 4,
  "nbformat_minor": 0
}
