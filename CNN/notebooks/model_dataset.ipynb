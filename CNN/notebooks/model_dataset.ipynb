{
 "cells": [
  {
   "cell_type": "markdown",
   "id": "1b99615f-be45-4cf4-bf8d-40e7e8669a19",
   "metadata": {},
   "source": [
    "This python script takes as inputs a onnx model and a directory with the images to parse. It will load the images and pass it as input to the different layers of the CNN model. The output of this script is the number of images evaluated on the total number of images and the accuracy of the model for this dataset. It will also save these outputs into a text file results.txt with the date and time.\n",
    "Example of use : \"python3 exec.py /home/ubuntu/jupyter/model/model-v0.onnx /home/ubuntu/jupyter/Brayan/dataset/resized/resized_1\""
   ]
  },
  {
   "cell_type": "code",
   "execution_count": 1,
   "id": "1d83ce11-32c8-4d12-874b-fde1f1bf5a2c",
   "metadata": {},
   "outputs": [
    {
     "ename": "NoSuchFile",
     "evalue": "[ONNXRuntimeError] : 3 : NO_SUCHFILE : Load model from -f failed:Load model -f failed. File doesn't exist",
     "output_type": "error",
     "traceback": [
      "\u001b[0;31m---------------------------------------------------------------------------\u001b[0m",
      "\u001b[0;31mNoSuchFile\u001b[0m                                Traceback (most recent call last)",
      "Input \u001b[0;32mIn [1]\u001b[0m, in \u001b[0;36m<cell line: 23>\u001b[0;34m()\u001b[0m\n\u001b[1;32m     20\u001b[0m     sys\u001b[38;5;241m.\u001b[39margv[\u001b[38;5;241m2\u001b[39m] \u001b[38;5;241m+\u001b[39m\u001b[38;5;241m=\u001b[39m \u001b[38;5;124m\"\u001b[39m\u001b[38;5;124m/*\u001b[39m\u001b[38;5;124m\"\u001b[39m\n\u001b[1;32m     22\u001b[0m list_image_path \u001b[38;5;241m=\u001b[39m glob\u001b[38;5;241m.\u001b[39mglob(sys\u001b[38;5;241m.\u001b[39margv[\u001b[38;5;241m2\u001b[39m])\n\u001b[0;32m---> 23\u001b[0m ort_sess \u001b[38;5;241m=\u001b[39m \u001b[43mort\u001b[49m\u001b[38;5;241;43m.\u001b[39;49m\u001b[43mInferenceSession\u001b[49m\u001b[43m(\u001b[49m\u001b[43msys\u001b[49m\u001b[38;5;241;43m.\u001b[39;49m\u001b[43margv\u001b[49m\u001b[43m[\u001b[49m\u001b[38;5;241;43m1\u001b[39;49m\u001b[43m]\u001b[49m\u001b[43m)\u001b[49m\n\u001b[1;32m     24\u001b[0m n_total \u001b[38;5;241m=\u001b[39m \u001b[38;5;241m0\u001b[39m\n\u001b[1;32m     25\u001b[0m n_succed \u001b[38;5;241m=\u001b[39m \u001b[38;5;241m0\u001b[39m\n",
      "File \u001b[0;32m~/anaconda3/envs/test/lib/python3.8/site-packages/onnxruntime/capi/onnxruntime_inference_collection.py:335\u001b[0m, in \u001b[0;36mInferenceSession.__init__\u001b[0;34m(self, path_or_bytes, sess_options, providers, provider_options, **kwargs)\u001b[0m\n\u001b[1;32m    332\u001b[0m disabled_optimizers \u001b[38;5;241m=\u001b[39m kwargs[\u001b[38;5;124m'\u001b[39m\u001b[38;5;124mdisabled_optimizers\u001b[39m\u001b[38;5;124m'\u001b[39m] \u001b[38;5;28;01mif\u001b[39;00m \u001b[38;5;124m'\u001b[39m\u001b[38;5;124mdisabled_optimizers\u001b[39m\u001b[38;5;124m'\u001b[39m \u001b[38;5;129;01min\u001b[39;00m kwargs \u001b[38;5;28;01melse\u001b[39;00m \u001b[38;5;28;01mNone\u001b[39;00m\n\u001b[1;32m    334\u001b[0m \u001b[38;5;28;01mtry\u001b[39;00m:\n\u001b[0;32m--> 335\u001b[0m     \u001b[38;5;28;43mself\u001b[39;49m\u001b[38;5;241;43m.\u001b[39;49m\u001b[43m_create_inference_session\u001b[49m\u001b[43m(\u001b[49m\u001b[43mproviders\u001b[49m\u001b[43m,\u001b[49m\u001b[43m \u001b[49m\u001b[43mprovider_options\u001b[49m\u001b[43m,\u001b[49m\u001b[43m \u001b[49m\u001b[43mdisabled_optimizers\u001b[49m\u001b[43m)\u001b[49m\n\u001b[1;32m    336\u001b[0m \u001b[38;5;28;01mexcept\u001b[39;00m \u001b[38;5;167;01mValueError\u001b[39;00m:\n\u001b[1;32m    337\u001b[0m     \u001b[38;5;28;01mif\u001b[39;00m \u001b[38;5;28mself\u001b[39m\u001b[38;5;241m.\u001b[39m_enable_fallback:\n",
      "File \u001b[0;32m~/anaconda3/envs/test/lib/python3.8/site-packages/onnxruntime/capi/onnxruntime_inference_collection.py:368\u001b[0m, in \u001b[0;36mInferenceSession._create_inference_session\u001b[0;34m(self, providers, provider_options, disabled_optimizers)\u001b[0m\n\u001b[1;32m    366\u001b[0m session_options \u001b[38;5;241m=\u001b[39m \u001b[38;5;28mself\u001b[39m\u001b[38;5;241m.\u001b[39m_sess_options \u001b[38;5;28;01mif\u001b[39;00m \u001b[38;5;28mself\u001b[39m\u001b[38;5;241m.\u001b[39m_sess_options \u001b[38;5;28;01melse\u001b[39;00m C\u001b[38;5;241m.\u001b[39mget_default_session_options()\n\u001b[1;32m    367\u001b[0m \u001b[38;5;28;01mif\u001b[39;00m \u001b[38;5;28mself\u001b[39m\u001b[38;5;241m.\u001b[39m_model_path:\n\u001b[0;32m--> 368\u001b[0m     sess \u001b[38;5;241m=\u001b[39m \u001b[43mC\u001b[49m\u001b[38;5;241;43m.\u001b[39;49m\u001b[43mInferenceSession\u001b[49m\u001b[43m(\u001b[49m\u001b[43msession_options\u001b[49m\u001b[43m,\u001b[49m\u001b[43m \u001b[49m\u001b[38;5;28;43mself\u001b[39;49m\u001b[38;5;241;43m.\u001b[39;49m\u001b[43m_model_path\u001b[49m\u001b[43m,\u001b[49m\u001b[43m \u001b[49m\u001b[38;5;28;43;01mTrue\u001b[39;49;00m\u001b[43m,\u001b[49m\u001b[43m \u001b[49m\u001b[38;5;28;43mself\u001b[39;49m\u001b[38;5;241;43m.\u001b[39;49m\u001b[43m_read_config_from_model\u001b[49m\u001b[43m)\u001b[49m\n\u001b[1;32m    369\u001b[0m \u001b[38;5;28;01melse\u001b[39;00m:\n\u001b[1;32m    370\u001b[0m     sess \u001b[38;5;241m=\u001b[39m C\u001b[38;5;241m.\u001b[39mInferenceSession(session_options, \u001b[38;5;28mself\u001b[39m\u001b[38;5;241m.\u001b[39m_model_bytes, \u001b[38;5;28;01mFalse\u001b[39;00m, \u001b[38;5;28mself\u001b[39m\u001b[38;5;241m.\u001b[39m_read_config_from_model)\n",
      "\u001b[0;31mNoSuchFile\u001b[0m: [ONNXRuntimeError] : 3 : NO_SUCHFILE : Load model from -f failed:Load model -f failed. File doesn't exist"
     ]
    }
   ],
   "source": [
    "#!/usr/bin/env python \n",
    "\n",
    "import onnx\n",
    "import onnxruntime as ort\n",
    "import numpy as np\n",
    "from PIL import Image\n",
    "import glob\n",
    "import sys\n",
    "from datetime import datetime\n",
    "\n",
    "if len(sys.argv) < 3:\n",
    "    print(\"This script take in argument two inputs\")\n",
    "    print(\"A model onnx\")\n",
    "    print(\"A directory which contains images\")\n",
    "    exit()\n",
    "\n",
    "if sys.argv[2][-1:] == \"/\":\n",
    "    sys.argv[2] += \"*\"\n",
    "else:\n",
    "    sys.argv[2] += \"/*\"\n",
    "\n",
    "list_image_path = glob.glob(sys.argv[2])\n",
    "ort_sess = ort.InferenceSession(sys.argv[1])\n",
    "n_total = 0\n",
    "n_succed = 0\n",
    "for image_path in list_image_path:\n",
    "    n_total += 1\n",
    "    img = np.array(Image.open(image_path),dtype=np.float32)\n",
    "    img = img.reshape(1, 500, 500, 1)\n",
    "    outputs = ort_sess.run(None, {'conv2d_input': img})\n",
    "    name = image_path.split(\"/\")\n",
    "    if outputs[0] == 1 and name[-1][0:4] == \"pneu\":\n",
    "        n_succed += 1\n",
    "    elif outputs[0] == 0 and name[-1][0:4] == \"norm\":\n",
    "        n_succed += 1\n",
    "\n",
    "print(\"Success : \", str(n_succed), \" on \", str(n_total), \" évaluations\")\n",
    "print(\"Accuracy : \" + str(n_succed/n_total*100) + \"%\")\n",
    "\n",
    "line = datetime.now().strftime(\"%d/%m/%Y %H:%M:%S\") + \" - Model : \" + sys.argv[1] + \" - Dataset : \" + sys.argv[2] + \" - Success : \" + str(n_succed) + \" on \" + str(n_total) + \" valuations\" + \"Accuracy : \" + str(n_succed/n_total*100) + \"%\" + \"\\n\"\n",
    "with open('results.txt', 'a') as f:\n",
    "    f.write(line)"
   ]
  }
 ],
 "metadata": {
  "kernelspec": {
   "display_name": "IA",
   "language": "python",
   "name": "ia"
  },
  "language_info": {
   "codemirror_mode": {
    "name": "ipython",
    "version": 3
   },
   "file_extension": ".py",
   "mimetype": "text/x-python",
   "name": "python",
   "nbconvert_exporter": "python",
   "pygments_lexer": "ipython3",
   "version": "3.8.2"
  }
 },
 "nbformat": 4,
 "nbformat_minor": 5
}
