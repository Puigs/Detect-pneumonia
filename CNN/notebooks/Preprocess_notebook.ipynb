{
 "cells": [
  {
   "cell_type": "code",
   "execution_count": 1,
   "metadata": {},
   "outputs": [],
   "source": [
    "### Imports\n",
    "import os\n",
    "from glob import glob\n",
    "from PIL import Image\n",
    "from PIL import ImageEnhance\n",
    "import ipywidgets"
   ]
  },
  {
   "cell_type": "code",
   "execution_count": 9,
   "metadata": {},
   "outputs": [],
   "source": [
    "### Preprocessing script loading image and change its caracterisc\n",
    "def preproc(contraste, sharpness, luminosity):\n",
    "    image = Image.open(\"IM-0001-0001.jpeg\").convert('L')\n",
    "    image = ImageEnhance.Brightness(image).enhance(luminosity)\n",
    "    image = ImageEnhance.Contrast(image).enhance(contraste)\n",
    "    image = ImageEnhance.Sharpness(image).enhance(sharpness)\n",
    "    display(image)"
   ]
  },
  {
   "cell_type": "code",
   "execution_count": 10,
   "metadata": {},
   "outputs": [
    {
     "name": "stderr",
     "output_type": "stream",
     "text": [
      "Widget Javascript not detected.  It may not be installed or enabled properly.\n"
     ]
    },
    {
     "data": {
      "application/vnd.jupyter.widget-view+json": {
       "model_id": "c6f4cb0797024772a08df37d130e3a7a"
      }
     },
     "metadata": {},
     "output_type": "display_data"
    },
    {
     "data": {
      "text/plain": [
       "<function __main__.preproc(contraste, sharpness, luminosity)>"
      ]
     },
     "execution_count": 10,
     "metadata": {},
     "output_type": "execute_result"
    }
   ],
   "source": [
    "ipywidgets.interact_manual(preproc,contraste=ipywidgets.FloatSlider(min=0, max=5, step=1e-5, value=1.0),\n",
    "                                   sharpness=ipywidgets.FloatSlider(min=0, max=5, step=1e-5, value=1.0),\n",
    "                                   luminosity=ipywidgets.FloatSlider(min=0, max=5, step=1e-5, value=1.0))\n"
   ]
  }
 ],
 "metadata": {
  "kernelspec": {
   "display_name": "Python 3 (ipykernel)",
   "language": "python",
   "name": "python3"
  },
  "language_info": {
   "codemirror_mode": {
    "name": "ipython",
    "version": 3
   },
   "file_extension": ".py",
   "mimetype": "text/x-python",
   "name": "python",
   "nbconvert_exporter": "python",
   "pygments_lexer": "ipython3",
   "version": "3.8.2"
  }
 },
 "nbformat": 4,
 "nbformat_minor": 4
}
