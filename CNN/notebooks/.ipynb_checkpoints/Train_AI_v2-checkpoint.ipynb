{
 "cells": [
  {
   "cell_type": "code",
   "execution_count": null,
   "id": "4337fc76",
   "metadata": {},
   "outputs": [],
   "source": [
    "import numpy as np\n",
    "import pandas as pd \n",
    "import random as rn\n",
    "\n",
    "# tensorflow\n",
    "import tensorflow as tf\n",
    "import tensorflow.random as tfr\n",
    "import tensorflow.keras as keras\n",
    "from tensorflow.keras.models import Sequential, load_model\n",
    "from tensorflow.keras.layers import Dense, Dropout, Flatten\n",
    "from tensorflow.keras.layers import Conv2D, MaxPool2D, MaxPooling2D, BatchNormalization\n",
    "from tensorflow.keras import backend as K\n",
    "from tensorflow.keras.utils import to_categorical\n",
    "from tensorflow.keras.optimizers import RMSprop, Adam\n",
    "from tensorflow.keras.preprocessing.image import ImageDataGenerator\n",
    "from tensorflow.keras.callbacks import EarlyStopping, ReduceLROnPlateau, ModelCheckpoint\n",
    "\n",
    "# Chart\n",
    "import matplotlib.pyplot as plt\n",
    "import matplotlib.image as mpimg\n",
    "\n",
    "import seaborn as sns\n",
    "import glob\n",
    "import onnx\n",
    "\n",
    "from sklearn.metrics import classification_report\n",
    "\n",
    "import os\n"
   ]
  },
  {
   "cell_type": "code",
   "execution_count": null,
   "id": "27eabdbe",
   "metadata": {},
   "outputs": [],
   "source": [
    "train_path = \"../../../datasets/original_500_500/train/\"\n",
    "valid_path = \"../../../datasets/original_500_500/val/\"\n",
    "test_path = \"../../../datasets/original_500_500/test/\"\n",
    "img_width = 500\n",
    "img_height = 500\n",
    "batch_size = 32\n",
    "model_path = \"model_v2.01.onnx\""
   ]
  },
  {
   "cell_type": "code",
   "execution_count": null,
   "id": "fa32e2fe",
   "metadata": {},
   "outputs": [],
   "source": [
    "train = tf.keras.utils.image_dataset_from_directory(train_path, \n",
    "        class_names= [\"NORMAL\", \"PNEUMONIE\"],\n",
    "        color_mode='grayscale',\n",
    "        batch_size=batch_size,\n",
    "        shuffle=True,\n",
    "        image_size=(img_width, img_height))\n",
    "val = tf.keras.utils.image_dataset_from_directory(valid_path, \n",
    "        class_names= [\"NORMAL\", \"PNEUMONIE\"],\n",
    "        color_mode='grayscale',\n",
    "        batch_size=batch_size,\n",
    "        shuffle=True,\n",
    "        image_size=(img_width, img_height))\n",
    "test = tf.keras.utils.image_dataset_from_directory(test_path, \n",
    "        class_names= [\"NORMAL\", \"PNEUMONIE\"],\n",
    "        color_mode='grayscale',\n",
    "        batch_size=batch_size,\n",
    "        shuffle=True,\n",
    "        image_size=(img_width, img_height))"
   ]
  },
  {
   "cell_type": "code",
   "execution_count": null,
   "id": "2d3e4b30",
   "metadata": {},
   "outputs": [],
   "source": [
    "train_label = np.concatenate([y for x, y in train], axis=0)\n",
    "val_label = np.concatenate([y for x, y in val], axis=0)\n",
    "test_label = np.concatenate([y for x, y in test], axis=0)"
   ]
  },
  {
   "cell_type": "code",
   "execution_count": null,
   "id": "bee1f815",
   "metadata": {},
   "outputs": [],
   "source": [
    "\"\"\"\n",
    "cnn = Sequential([\n",
    "        \n",
    "        Conv2D(16, kernel_size=(3, 3), activation='relu', padding='same', input_shape = (img_width, img_height, 1)),\n",
    "        Conv2D(16, kernel_size=(3, 3), activation='relu', padding='same'),\n",
    "        BatchNormalization(),\n",
    "        MaxPool2D(pool_size=(2, 2)),\n",
    "        Dropout(0.25),\n",
    "        \n",
    "        Conv2D(32, kernel_size=(3, 3), activation='relu', padding='same'),\n",
    "        Conv2D(32, kernel_size=(3, 3), activation='relu', padding='same'),\n",
    "        BatchNormalization(),\n",
    "        MaxPool2D(pool_size=(2, 2)),\n",
    "        Dropout(0.25),\n",
    "        \n",
    "        Conv2D(64, kernel_size=(3, 3), activation='relu', padding='same'),\n",
    "        Conv2D(64, kernel_size=(3, 3), activation='relu', padding='same'),\n",
    "        BatchNormalization(),\n",
    "        MaxPool2D(pool_size=(2, 2)),\n",
    "        Dropout(0.25),\n",
    "        \n",
    "        Conv2D(128, kernel_size=(3, 3), activation='relu', padding='same' ),\n",
    "        Conv2D(128, kernel_size=(3, 3), activation='relu', padding='same'),\n",
    "        BatchNormalization(),\n",
    "        MaxPool2D(pool_size=(2, 2)),\n",
    "        Dropout(0.25),\n",
    "        \n",
    "        Conv2D(256, kernel_size=(3, 3), activation='relu', padding='same' ),\n",
    "        Conv2D(256, kernel_size=(3, 3), activation='relu', padding='same'),\n",
    "        BatchNormalization(),\n",
    "        MaxPool2D(pool_size=(2, 2)),\n",
    "        Dropout(0.25),\n",
    "        \n",
    "        \n",
    "        Flatten(),\n",
    "        \n",
    "        Dense(512, activation='relu'),\n",
    "        Dropout(0.5),\n",
    "        \n",
    "        Dense(256, activation='relu'),\n",
    "        Dropout(0.5),\n",
    "        \n",
    "        Dense(64, activation='relu'),\n",
    "        Dropout(0.5),\n",
    "        Dense(1, activation = \"softmax\")\n",
    "        \n",
    "    ])\n",
    "cnn.compile(optimizer = 'adam', loss = 'categorical_crossentropy', metrics = ['accuracy'])\n",
    "cnn.summary()\n",
    "\"\"\""
   ]
  },
  {
   "cell_type": "code",
   "execution_count": null,
   "id": "a6099407",
   "metadata": {},
   "outputs": [],
   "source": [
    "cnn = Sequential([\n",
    "        \n",
    "        Conv2D(16, kernel_size=(3, 3), activation='relu', padding='same', input_shape = (img_width, img_height, 1)),\n",
    "        Conv2D(16, kernel_size=(3, 3), activation='relu', padding='same'),\n",
    "        BatchNormalization(),\n",
    "        MaxPool2D(pool_size=(2, 2)),\n",
    "        Dropout(0.2),\n",
    "        \n",
    "        Conv2D(32, kernel_size=(3, 3), activation='relu', padding='same'),\n",
    "        Conv2D(32, kernel_size=(3, 3), activation='relu', padding='same'),\n",
    "        BatchNormalization(),\n",
    "        MaxPool2D(pool_size=(2, 2)),\n",
    "        Dropout(0.2),\n",
    "        \n",
    "        Conv2D(64, kernel_size=(3, 3), activation='relu', padding='same'),\n",
    "        Conv2D(64, kernel_size=(3, 3), activation='relu', padding='same'),\n",
    "        BatchNormalization(),\n",
    "        MaxPool2D(pool_size=(2, 2)),\n",
    "        Dropout(0.2),\n",
    "        \n",
    "        Conv2D(128, kernel_size=(3, 3), activation='relu', padding='same'),\n",
    "        Conv2D(128, kernel_size=(3, 3), activation='relu', padding='same'),\n",
    "        BatchNormalization(),\n",
    "        MaxPool2D(pool_size=(2, 2)),\n",
    "        Dropout(0.2),\n",
    "        \n",
    "        Conv2D(256, kernel_size=(3, 3), activation='relu', padding='same'),\n",
    "        Conv2D(256, kernel_size=(3, 3), activation='relu', padding='same'),\n",
    "        BatchNormalization(),\n",
    "        MaxPool2D(pool_size=(2, 2)),\n",
    "        Dropout(0.2),\n",
    "        \n",
    "        Flatten(),\n",
    "       \n",
    "        Dense(1024, activation='relu'),\n",
    "        BatchNormalization(),\n",
    "        Dropout(0.5),\n",
    "        \n",
    "        Dense(512, activation='relu'),\n",
    "        BatchNormalization(),\n",
    "        Dropout(0.4),\n",
    "        \n",
    "        Dense(256, activation='relu'),\n",
    "        BatchNormalization(),\n",
    "        Dropout(0.3),\n",
    "        \n",
    "        Dense(64, activation='relu'),\n",
    "        BatchNormalization(),\n",
    "        Dropout(0.2),\n",
    "        \n",
    "        Dense(1, activation = \"softmax\")\n",
    "    ])\n",
    "cnn.compile(optimizer = 'adam', loss = 'categorical_crossentropy', metrics = ['accuracy'])\n",
    "cnn.summary()"
   ]
  },
  {
   "cell_type": "code",
   "execution_count": null,
   "id": "d97de6f1",
   "metadata": {},
   "outputs": [],
   "source": [
    "early = EarlyStopping(monitor=\"val_loss\", mode=\"min\", patience=7)\n",
    "learning_rate_reduction = ReduceLROnPlateau(monitor=\"loss\", patience = 4, verbose=1,factor=0.3, min_lr=0.000001)\n",
    "callbacks_list = [ early, learning_rate_reduction]"
   ]
  },
  {
   "cell_type": "code",
   "execution_count": null,
   "id": "b1746170",
   "metadata": {},
   "outputs": [],
   "source": [
    "from sklearn.utils.class_weight import compute_class_weight\n",
    "weights = compute_class_weight(class_weight = \"balanced\", classes = np.unique(train_label), y = train_label)\n",
    "cw = dict(zip( np.unique(train_label), weights))"
   ]
  },
  {
   "cell_type": "code",
   "execution_count": null,
   "id": "093607e0",
   "metadata": {},
   "outputs": [],
   "source": [
    "cnn.fit(train,batch_size=64, epochs=100, validation_data=val, callbacks=callbacks_list, class_weight=cw)"
   ]
  },
  {
   "cell_type": "code",
   "execution_count": null,
   "id": "50f1fa5a",
   "metadata": {},
   "outputs": [],
   "source": [
    "preds = cnn.predict(test,verbose=1)\n",
    "\n",
    "predictions = preds.copy()\n",
    "predictions[predictions <= 0.5] = 0\n",
    "predictions[predictions > 0.5] = 1"
   ]
  },
  {
   "cell_type": "code",
   "execution_count": null,
   "id": "0cd96c46",
   "metadata": {},
   "outputs": [],
   "source": [
    "test_accu = cnn.evaluate(test)\n",
    "print('The testing accuracy is :',test_accu[1]*100, '%')\n",
    "\n",
    "new_test = cnn.evaluate(val)\n",
    "print('The testing accuracy is :',new_test[1]*100, '%')"
   ]
  },
  {
   "cell_type": "code",
   "execution_count": null,
   "id": "811fd403",
   "metadata": {},
   "outputs": [],
   "source": [
    "cnn.save(\"../keras/\" + model_path)"
   ]
  },
  {
   "cell_type": "code",
   "execution_count": null,
   "id": "62df258b",
   "metadata": {},
   "outputs": [],
   "source": []
  }
 ],
 "metadata": {
  "kernelspec": {
   "display_name": "IA",
   "language": "python",
   "name": "ia"
  },
  "language_info": {
   "codemirror_mode": {
    "name": "ipython",
    "version": 3
   },
   "file_extension": ".py",
   "mimetype": "text/x-python",
   "name": "python",
   "nbconvert_exporter": "python",
   "pygments_lexer": "ipython3",
   "version": "3.8.2"
  }
 },
 "nbformat": 4,
 "nbformat_minor": 5
}
