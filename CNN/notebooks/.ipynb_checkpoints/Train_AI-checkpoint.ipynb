{
 "cells": [
  {
   "cell_type": "markdown",
   "id": "22454155-f70d-4e0f-95fd-d31d174849ac",
   "metadata": {},
   "source": [
    "# Notebook de test du préprocessing du dataset"
   ]
  },
  {
   "cell_type": "code",
   "execution_count": null,
   "id": "f99661b5-9f50-4940-b147-2c47776ee433",
   "metadata": {},
   "outputs": [],
   "source": [
    "import numpy as np              #For handling arrays\n",
    "import pandas as pd             # For handling data\n",
    "import tensorflow as tf\n",
    "from tensorflow.keras.models import Sequential\n",
    "from tensorflow.keras.layers import Dense,Conv2D,Flatten,MaxPooling2D, BatchNormalization, MaxPool2D, Dropout\n",
    "from tensorflow.keras.callbacks import EarlyStopping,ReduceLROnPlateau\n",
    "from tensorflow.keras.utils import plot_model\n",
    "\n",
    "from tensorflow.keras.preprocessing.image import ImageDataGenerator\n",
    "\n",
    "import onnx\n",
    "import glob\n",
    "import matplotlib.pyplot as plt"
   ]
  },
  {
   "cell_type": "code",
   "execution_count": null,
   "id": "f7329fc1-4236-4a8a-bc0c-459f07ff71cd",
   "metadata": {},
   "outputs": [],
   "source": [
    "print(tf.__version__)"
   ]
  },
  {
   "cell_type": "code",
   "execution_count": null,
   "id": "d7960209-ae93-4e1b-85fe-c0fcf0e1c578",
   "metadata": {},
   "outputs": [],
   "source": [
    "train_path = \"../../../datasets/original_500_500/train/\"\n",
    "valid_path = \"../../../datasets/original_500_500/val/\"\n",
    "test_path = \"../../../datasets/original_500_500/test/\"\n",
    "img_width = 500\n",
    "img_height = 500\n",
    "batch_size = 32\n",
    "model_path = \"model_v2_03\""
   ]
  },
  {
   "cell_type": "code",
   "execution_count": null,
   "id": "9f3e0138-a6c8-499e-b4c5-d9346ebf8c7b",
   "metadata": {},
   "outputs": [],
   "source": [
    "train = tf.keras.utils.image_dataset_from_directory(train_path, \n",
    "        class_names= [\"NORMAL\", \"PNEUMONIE\"],\n",
    "        color_mode='grayscale',\n",
    "        batch_size=batch_size,\n",
    "        shuffle=True,\n",
    "        image_size=(img_width, img_height))\n",
    "val = tf.keras.utils.image_dataset_from_directory(valid_path, \n",
    "        class_names= [\"NORMAL\", \"PNEUMONIE\"],\n",
    "        color_mode='grayscale',\n",
    "        batch_size=batch_size,\n",
    "        shuffle=True,\n",
    "        image_size=(img_width, img_height))\n",
    "test = tf.keras.utils.image_dataset_from_directory(test_path, \n",
    "        class_names= [\"NORMAL\", \"PNEUMONIE\"],\n",
    "        color_mode='grayscale',\n",
    "        batch_size=batch_size,\n",
    "        shuffle=True,\n",
    "        image_size=(img_width, img_height))"
   ]
  },
  {
   "cell_type": "code",
   "execution_count": null,
   "id": "72508910-5bce-4b21-8331-ed5b8dffef3c",
   "metadata": {},
   "outputs": [],
   "source": [
    "#image_gen = ImageDataGenerator(\n",
    "#                                  rescale = 1./255,\n",
    "#                                  shear_range = 0.2,\n",
    "#                                  zoom_range = 0.2,\n",
    "#                                  horizontal_flip = True,          \n",
    "#                               )\n",
    "# Create Image Data Generator for Test/Validation Set\n",
    "#test_data_gen = ImageDataGenerator(rescale = 1./255)\n",
    "\n",
    "#train = image_gen.flow_from_directory(\n",
    "#      train_path,\n",
    "#      target_size=(img_height, img_width),\n",
    "#      color_mode='grayscale',\n",
    "#      class_mode='binary',\n",
    "#      batch_size=batch_size,\n",
    "#      )\n",
    "#test = test_data_gen.flow_from_directory(\n",
    "#      test_path,\n",
    "#      target_size=(img_height, img_width),\n",
    "#      color_mode='grayscale',\n",
    "#      shuffle=False, \n",
    "#setting shuffle as False just so we can later compare it with predicted values without having indexing problem \n",
    "#      class_mode='binary',\n",
    "#      batch_size=batch_size,\n",
    "#      )\n",
    "#val = test_data_gen.flow_from_directory(\n",
    "#      valid_path,\n",
    "#      target_size=(img_height, img_width),\n",
    "#      color_mode='grayscale',\n",
    "#      class_mode='binary', \n",
    "      #batch_size=batch_size,\n",
    "#      )"
   ]
  },
  {
   "cell_type": "code",
   "execution_count": null,
   "id": "7888db2d-8de1-4324-ac2e-3726ed8334f6",
   "metadata": {},
   "outputs": [],
   "source": [
    "train_label = np.concatenate([y for x, y in train], axis=0)\n",
    "val_label = np.concatenate([y for x, y in val], axis=0)\n",
    "test_label = np.concatenate([y for x, y in test], axis=0)"
   ]
  },
  {
   "cell_type": "code",
   "execution_count": null,
   "id": "d4893f86-93ba-4b5b-b828-1b1b2dd8d22e",
   "metadata": {},
   "outputs": [],
   "source": [
    "cnn = Sequential()\n",
    "cnn.add(Conv2D(32, (3, 3), activation=\"relu\", input_shape=(img_width, img_height, 1)))\n",
    "cnn.add(MaxPooling2D(pool_size = (2, 2)))\n",
    "cnn.add(Conv2D(32, (3, 3), activation=\"relu\", input_shape=(img_width, img_height, 1)))\n",
    "cnn.add(MaxPooling2D(pool_size = (2, 2)))\n",
    "cnn.add(Conv2D(32, (3, 3), activation=\"relu\", input_shape=(img_width, img_height, 1)))\n",
    "cnn.add(MaxPooling2D(pool_size = (2, 2)))\n",
    "cnn.add(Conv2D(64, (3, 3), activation=\"relu\", input_shape=(img_width, img_height, 1)))\n",
    "cnn.add(MaxPooling2D(pool_size = (2, 2)))\n",
    "cnn.add(Conv2D(64, (3, 3), activation=\"relu\", input_shape=(img_width, img_height, 1)))\n",
    "cnn.add(MaxPooling2D(pool_size = (2, 2)))\n",
    "cnn.add(Flatten())\n",
    "cnn.add(Dense(activation = 'relu', units = 128))\n",
    "cnn.add(Dense(activation = 'relu', units = 64))\n",
    "cnn.add(Dense(activation = 'sigmoid', units = 1))\n",
    "cnn.compile(optimizer = 'adam', loss = 'binary_crossentropy', metrics = ['accuracy'])\n",
    "cnn.summary()"
   ]
  },
  {
   "cell_type": "code",
   "execution_count": null,
   "id": "8834c737-7305-4240-8947-7907bfa61689",
   "metadata": {},
   "outputs": [],
   "source": [
    "early = EarlyStopping(monitor=\"val_loss\", mode=\"min\", patience=3)\n",
    "learning_rate_reduction = ReduceLROnPlateau(monitor=\"val_loss\", patience = 2, verbose=1,factor=0.3, min_lr=0.000001)\n",
    "callbacks_list = [ early, learning_rate_reduction]"
   ]
  },
  {
   "cell_type": "code",
   "execution_count": null,
   "id": "16807bed-914b-4795-9b7c-73ac8e0ee593",
   "metadata": {},
   "outputs": [],
   "source": [
    "from sklearn.utils.class_weight import compute_class_weight\n",
    "weights = compute_class_weight(class_weight = \"balanced\", classes = np.unique(train_label), y = train_label)\n",
    "cw = dict(zip( np.unique(train_label), weights))"
   ]
  },
  {
   "cell_type": "code",
   "execution_count": null,
   "id": "fc3d8393-b3ed-40c8-a49e-5e53a6c8aa08",
   "metadata": {},
   "outputs": [],
   "source": [
    "history = cnn.fit(train,epochs=100, validation_data=val, callbacks=callbacks_list) #class_weight=cw,"
   ]
  },
  {
   "cell_type": "code",
   "execution_count": null,
   "id": "f136924c-8c61-46bd-8f61-150c0b1b0456",
   "metadata": {},
   "outputs": [],
   "source": [
    "preds = cnn.predict(test,verbose=1)\n",
    "\n",
    "predictions = preds.copy()\n",
    "predictions[predictions <= 0.5] = 0\n",
    "predictions[predictions > 0.5] = 1"
   ]
  },
  {
   "cell_type": "code",
   "execution_count": null,
   "id": "729bc27e-e5b2-45ca-99c8-3a3e109c5ee6",
   "metadata": {},
   "outputs": [],
   "source": [
    "#from sklearn.metrics import classification_report,confusion_matrix\n",
    "#cm = pd.DataFrame(data=confusion_matrix(test.classes, predictions, labels=[0, 1]),index=[\"Actual Normal\", \"Actual Pneumonia\"],\n",
    "#columns=[\"Predicted Normal\", \"Predicted Pneumonia\"])\n",
    "#import seaborn as sns\n",
    "#sns.heatmap(cm,annot=True,fmt=\"d\")\n",
    "\n",
    "#print(classification_report(y_true=test.classes,y_pred=predictions,target_names =['NORMAL','PNEUMONIA']))"
   ]
  },
  {
   "cell_type": "code",
   "execution_count": null,
   "id": "057d08bb-0f8a-4743-b14b-70580ecc8312",
   "metadata": {},
   "outputs": [],
   "source": [
    "test_accu = cnn.evaluate(test)\n",
    "print('The testing accuracy is :',test_accu[1]*100, '%')\n",
    "\n",
    "new_test = cnn.evaluate(val)\n",
    "print('The testing accuracy is :',new_test[1]*100, '%')"
   ]
  },
  {
   "cell_type": "code",
   "execution_count": null,
   "id": "48f3d907-73c6-4062-b9bb-d5a6ff6a4023",
   "metadata": {},
   "outputs": [],
   "source": [
    "cnn.save(\"../keras/\" + model_path)"
   ]
  },
  {
   "cell_type": "code",
   "execution_count": null,
   "id": "508aa7c1-e61d-4f91-ae7f-59003f691740",
   "metadata": {},
   "outputs": [],
   "source": [
    "N = 4\n",
    "plt.style.use(\"ggplot\")\n",
    "plt.figure()\n",
    "plt.plot(np.arange(0, N), history.history[\"loss\"], label=\"train_loss\")\n",
    "plt.plot(np.arange(0, N), history.history[\"val_loss\"], label=\"val_loss\")\n",
    "plt.plot(np.arange(0, N), history.history[\"accuracy\"], label=\"train_acc\")\n",
    "plt.plot(np.arange(0, N), history.history[\"val_accuracy\"], label=\"val_acc\")\n",
    "plt.title(\"Training Loss and Accuracy on Dataset\")\n",
    "plt.xlabel(\"Epoch #\")\n",
    "plt.ylabel(\"Loss/Accuracy\")\n",
    "plt.legend(loc=\"lower left\")\n",
    "plt.savefig(\"plot.png\")"
   ]
  },
  {
   "cell_type": "code",
   "execution_count": null,
   "id": "ef2300ac-1781-417b-a5a6-4d3b0cedabc3",
   "metadata": {},
   "outputs": [],
   "source": []
  }
 ],
 "metadata": {
  "kernelspec": {
   "display_name": "IA",
   "language": "python",
   "name": "ia"
  },
  "language_info": {
   "codemirror_mode": {
    "name": "ipython",
    "version": 3
   },
   "file_extension": ".py",
   "mimetype": "text/x-python",
   "name": "python",
   "nbconvert_exporter": "python",
   "pygments_lexer": "ipython3",
   "version": "3.8.2"
  }
 },
 "nbformat": 4,
 "nbformat_minor": 5
}
