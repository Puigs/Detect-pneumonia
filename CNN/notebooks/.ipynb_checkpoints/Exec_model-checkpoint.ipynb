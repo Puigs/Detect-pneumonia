{
 "cells": [
  {
   "cell_type": "markdown",
   "id": "6b4a267b",
   "metadata": {},
   "source": [
    "Notebook d'execution de model avec une image"
   ]
  },
  {
   "cell_type": "code",
   "execution_count": null,
   "id": "b9562bc9",
   "metadata": {},
   "outputs": [],
   "source": [
    "import numpy as np              #For handling arrays\n",
    "import pandas as pd             # For handling data\n",
    "import onnxruntime\n",
    "import ipywidgets as widgets\n",
    "import glob\n",
    "from PIL import Image"
   ]
  },
  {
   "cell_type": "code",
   "execution_count": null,
   "id": "ddd14044",
   "metadata": {},
   "outputs": [],
   "source": [
    "models = glob.glob(\"../model/500*500/*.onnx\")"
   ]
  },
  {
   "cell_type": "markdown",
   "id": "6681f1fc",
   "metadata": {},
   "source": [
    "Vous pouvez tester les différentes images/models\n",
    "\n",
    "Les models se trouvent dans \"../model/\n",
    "\n",
    "Les images sont dans le dossier ../../datasets"
   ]
  },
  {
   "cell_type": "code",
   "execution_count": null,
   "id": "0cecf35b",
   "metadata": {},
   "outputs": [],
   "source": [
    "model = \"../model/500*500/model-shapv0.onnx\"\n",
    "img_normal = np.array(Image.open(\"../../datasets/image_test/normal.jpeg\"),dtype=np.float32)\n",
    "img_normal = img_normal.reshape(1, 500, 500, 1)\n",
    "img_pneu = np.array(Image.open(\"../../datasets/image_test/pneu.jpeg\"),dtype=np.float32)\n",
    "img_pneu = img_pneu.reshape(1, 500, 500, 1)"
   ]
  },
  {
   "cell_type": "code",
   "execution_count": null,
   "id": "b7be1d0e",
   "metadata": {},
   "outputs": [],
   "source": [
    "ort_sess = onnxruntime.InferenceSession(model)\n",
    "outputs = ort_sess.run(None, {'conv2d_input': img_normal})\n",
    "if float(outputs[0]) >= 0.5:\n",
    "    print(\"This image is labelled Pneumonia\")\n",
    "else:\n",
    "    print(\"This image is labelled Normal\")"
   ]
  },
  {
   "cell_type": "code",
   "execution_count": null,
   "id": "4cf3d91f",
   "metadata": {},
   "outputs": [],
   "source": [
    "ort_sess = onnxruntime.InferenceSession(model)\n",
    "outputs = ort_sess.run(None, {'conv2d_input': img_pneu})\n",
    "if float(outputs[0]) >= 0.5:\n",
    "    print(\"This image is labelled Pneumonia\")\n",
    "else:\n",
    "    print(\"This image is labelled Normal\")"
   ]
  },
  {
   "cell_type": "code",
   "execution_count": null,
   "id": "6c304a9e",
   "metadata": {},
   "outputs": [],
   "source": []
  },
  {
   "cell_type": "code",
   "execution_count": null,
   "id": "a4836e5e",
   "metadata": {},
   "outputs": [],
   "source": []
  }
 ],
 "metadata": {
  "kernelspec": {
   "display_name": "IA2",
   "language": "python",
   "name": "ia2"
  },
  "language_info": {
   "codemirror_mode": {
    "name": "ipython",
    "version": 3
   },
   "file_extension": ".py",
   "mimetype": "text/x-python",
   "name": "python",
   "nbconvert_exporter": "python",
   "pygments_lexer": "ipython3",
   "version": "3.8.2"
  }
 },
 "nbformat": 4,
 "nbformat_minor": 5
}
